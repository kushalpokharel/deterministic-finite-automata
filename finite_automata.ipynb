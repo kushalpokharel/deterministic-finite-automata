{
 "cells": [
  {
   "cell_type": "code",
   "execution_count": 2,
   "metadata": {},
   "outputs": [],
   "source": [
    "import pandas as pd\n",
    "import numpy as np"
   ]
  },
  {
   "cell_type": "code",
   "execution_count": 3,
   "metadata": {},
   "outputs": [],
   "source": [
    "df=pd.read_csv(\"dfa.csv\")"
   ]
  },
  {
   "cell_type": "code",
   "execution_count": 4,
   "metadata": {},
   "outputs": [
    {
     "data": {
      "text/html": [
       "<div>\n",
       "<style scoped>\n",
       "    .dataframe tbody tr th:only-of-type {\n",
       "        vertical-align: middle;\n",
       "    }\n",
       "\n",
       "    .dataframe tbody tr th {\n",
       "        vertical-align: top;\n",
       "    }\n",
       "\n",
       "    .dataframe thead th {\n",
       "        text-align: right;\n",
       "    }\n",
       "</style>\n",
       "<table border=\"1\" class=\"dataframe\">\n",
       "  <thead>\n",
       "    <tr style=\"text-align: right;\">\n",
       "      <th></th>\n",
       "      <th>K</th>\n",
       "      <th>sigma</th>\n",
       "      <th>s</th>\n",
       "      <th>F</th>\n",
       "      <th>state</th>\n",
       "      <th>convert</th>\n",
       "      <th>converted</th>\n",
       "    </tr>\n",
       "  </thead>\n",
       "  <tbody>\n",
       "    <tr>\n",
       "      <th>0</th>\n",
       "      <td>q0</td>\n",
       "      <td>a</td>\n",
       "      <td>q1</td>\n",
       "      <td>q0</td>\n",
       "      <td>q0</td>\n",
       "      <td>a</td>\n",
       "      <td>q0</td>\n",
       "    </tr>\n",
       "    <tr>\n",
       "      <th>1</th>\n",
       "      <td>q1</td>\n",
       "      <td>b</td>\n",
       "      <td>NaN</td>\n",
       "      <td>NaN</td>\n",
       "      <td>q0</td>\n",
       "      <td>b</td>\n",
       "      <td>q1</td>\n",
       "    </tr>\n",
       "    <tr>\n",
       "      <th>2</th>\n",
       "      <td>NaN</td>\n",
       "      <td>NaN</td>\n",
       "      <td>NaN</td>\n",
       "      <td>NaN</td>\n",
       "      <td>q1</td>\n",
       "      <td>a</td>\n",
       "      <td>q1</td>\n",
       "    </tr>\n",
       "    <tr>\n",
       "      <th>3</th>\n",
       "      <td>NaN</td>\n",
       "      <td>NaN</td>\n",
       "      <td>NaN</td>\n",
       "      <td>NaN</td>\n",
       "      <td>q1</td>\n",
       "      <td>b</td>\n",
       "      <td>q0</td>\n",
       "    </tr>\n",
       "  </tbody>\n",
       "</table>\n",
       "</div>"
      ],
      "text/plain": [
       "     K sigma    s    F state convert converted\n",
       "0   q0     a   q1   q0    q0       a        q0\n",
       "1   q1     b  NaN  NaN    q0       b        q1\n",
       "2  NaN   NaN  NaN  NaN    q1       a        q1\n",
       "3  NaN   NaN  NaN  NaN    q1       b        q0"
      ]
     },
     "execution_count": 4,
     "metadata": {},
     "output_type": "execute_result"
    }
   ],
   "source": [
    "df"
   ]
  },
  {
   "cell_type": "code",
   "execution_count": 5,
   "metadata": {},
   "outputs": [
    {
     "name": "stdout",
     "output_type": "stream",
     "text": [
      "q0\n",
      "q0\n",
      "q1\n",
      "q1\n"
     ]
    }
   ],
   "source": [
    "df['K']\n",
    "for i in df.state:\n",
    "    print(i)"
   ]
  },
  {
   "cell_type": "code",
   "execution_count": 22,
   "metadata": {},
   "outputs": [],
   "source": [
    "def mapp(st):\n",
    "    state=df.s[0]\n",
    "    for j in st:\n",
    "        count=0\n",
    "        sa=state\n",
    "        for i in df.state:\n",
    "            if (j==df.convert[count] and i==state):\n",
    "                state=df.converted[count]\n",
    "                continue\n",
    "            count+=1\n",
    "        print(\"from \"+sa+\" to \"+state)\n",
    "    return state\n",
    "    "
   ]
  },
  {
   "cell_type": "code",
   "execution_count": 25,
   "metadata": {},
   "outputs": [],
   "source": [
    "def check (stri):\n",
    "    if(mapp(stri) in df.F[0]):\n",
    "        print(\"Hence string accepted\")\n",
    "    else:\n",
    "        print(\"Hence string not accepted\")"
   ]
  },
  {
   "cell_type": "code",
   "execution_count": 26,
   "metadata": {},
   "outputs": [
    {
     "name": "stdout",
     "output_type": "stream",
     "text": [
      "Enter the string abba\n",
      "from q1 to q1\n",
      "from q1 to q0\n",
      "from q0 to q1\n",
      "from q1 to q1\n",
      "Hence string not accepted\n"
     ]
    }
   ],
   "source": [
    "string=input(\"Enter the string \")\n",
    "check(string)"
   ]
  },
  {
   "cell_type": "code",
   "execution_count": 27,
   "metadata": {},
   "outputs": [
    {
     "name": "stdout",
     "output_type": "stream",
     "text": [
      "Enter the string ab\n",
      "from q1 to q1\n",
      "from q1 to q0\n",
      "Hence string accepted\n"
     ]
    }
   ],
   "source": [
    "string=input(\"Enter the string \")\n",
    "check(string)"
   ]
  },
  {
   "cell_type": "code",
   "execution_count": null,
   "metadata": {},
   "outputs": [],
   "source": []
  }
 ],
 "metadata": {
  "kernelspec": {
   "display_name": "Python 3",
   "language": "python",
   "name": "python3"
  },
  "language_info": {
   "codemirror_mode": {
    "name": "ipython",
    "version": 3
   },
   "file_extension": ".py",
   "mimetype": "text/x-python",
   "name": "python",
   "nbconvert_exporter": "python",
   "pygments_lexer": "ipython3",
   "version": "3.6.7"
  }
 },
 "nbformat": 4,
 "nbformat_minor": 2
}
